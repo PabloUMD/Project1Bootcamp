{
 "cells": [
  {
   "cell_type": "markdown",
   "metadata": {},
   "source": [
    "## Project 1 - Mobile Home Parks and Tornadoes Risk Assessment in the US.\n",
    "\n",
    "   ### Objective: \n",
    "\n",
    "   #### Assess the risk of tornado occurrences for mobile home parks in the US. Tornadoes pose a significant threat to mobile home parks due to their vulnerability to high winds and flying debris. By analyzing historical tornado data and the spatial distribution of mobile home parks, the project aims to identify high-risk areas and provide recommendations for mitigation strategies."
   ]
  },
  {
   "cell_type": "markdown",
   "metadata": {},
   "source": [
    "### Step 1: Imported Libraries: Pandas, geopandas, shapely, matplotlib, geoviews, hvplot, numpy and scipy"
   ]
  },
  {
   "cell_type": "code",
   "execution_count": 36,
   "metadata": {},
   "outputs": [],
   "source": [
    "\n",
    "# Imported Libraries: Pandas, geopandas, shapely, matplotlib, geoviews, hvplot, numpy and scipy\n",
    "\n",
    "# import dependencies\n",
    "\n",
    "import pandas as pd\n",
    "import geopandas as gpd\n",
    "from shapely.geometry import Point\n",
    "import matplotlib.pyplot as plt\n",
    "import geoviews as gv\n",
    "import geoviews.tile_sources as gvts\n",
    "import hvplot.pandas\n",
    "import matplotlib.colors as mcolors\n",
    "import numpy as np\n",
    "from scipy.stats import linregress\n"
   ]
  },
  {
   "cell_type": "markdown",
   "metadata": {},
   "source": [
    "### Step 2: Define file paths and read data from both CSV's"
   ]
  },
  {
   "cell_type": "code",
   "execution_count": null,
   "metadata": {},
   "outputs": [],
   "source": [
    "\n",
    "# Define file paths and read data from both CSV's\n",
    "\n",
    "# define paths for both files\n",
    "\n",
    "tornadoes_data_path = \"1950-2021_all_tornadoes.csv\"\n",
    "mobile_home_parks_path = \"Mobile_Home_Parks.csv\"\n",
    "\n",
    "# Read the data from both csv's \n",
    "\n",
    "tornadoes_data = pd.read_csv(tornadoes_data_path)\n",
    "mobile_home_data = pd.read_csv(mobile_home_parks_path)\n",
    "\n",
    "display(tornadoes_data)\n",
    "display(mobile_home_data) \n"
   ]
  },
  {
   "cell_type": "markdown",
   "metadata": {},
   "source": [
    "### Step 3: Cleaning and renaming the data for both CSV files (for later merging)"
   ]
  },
  {
   "cell_type": "code",
   "execution_count": null,
   "metadata": {},
   "outputs": [],
   "source": [
    "\n",
    "# Cleaning and renaming the data for both CSV files (for later merging)\n",
    "\n",
    "# Rename columns in tornadoes_data\n",
    "clean_tornadoes_data = tornadoes_data.rename(columns={\n",
    "    \"yr\": \"year\",\n",
    "    \"mo\": \"month\",\n",
    "    \"dy\": \"day\",\n",
    "    \"st\": \"state\",\n",
    "    \"mag\": \"magnitude\",\n",
    "    \"inj\": \"injuries\",\n",
    "    \"fat\": \"fatalities\",\n",
    "    \"loss\": \"propertyloss\",\n",
    "    \"closs\": \"lossinmillions\",\n",
    "    \"slat\": \"latitude\",\n",
    "    \"slon\": \"longitude\",\n",
    "    \"elat\": \"latitudeend\",\n",
    "    \"elon\": \"longitudeend\",\n",
    "    \"len\": \"lengthinmiles\",\n",
    "    \"wid\": \"widthinyards\",\n",
    "    })\n",
    "# Delete columns in tornadoes_data\n",
    "clean_tornadoes_data = clean_tornadoes_data.drop(columns={\"om\",\"tz\",\"stf\",\"stn\",\"ns\",\"sn\",\"sg\",\"f1\",\"f2\",\"f3\",\"f4\",\"fc\"})\n",
    "clean_tornadoes_data = clean_tornadoes_data[(clean_tornadoes_data['latitude'] != 0) | (clean_tornadoes_data['longitude'] != 0)]\n",
    "clean_tornadoes_data['latitude'] = clean_tornadoes_data['latitude'].round(1)\n",
    "clean_tornadoes_data['longitude'] = clean_tornadoes_data['longitude'].round(1)\n",
    "display(clean_tornadoes_data)\n",
    "# Rename columns in mobile_home_data\n",
    "clean_mobile_home_data = mobile_home_data.rename(columns={\n",
    "    \"NAME\": \"name\",\n",
    "    \"ADDRESS\": \"address\",\n",
    "    \"CITY\": \"city\",\n",
    "    \"STATE\": \"state\",\n",
    "    \"ZIP\": \"zipcode\",\n",
    "    \"TELEPHONE\": \"telephone\",\n",
    "    \"TYPE\": \"type\",\n",
    "    \"STATUS\": \"status\",\n",
    "    \"COUNTY\": \"county\",\n",
    "    \"LATITUDE\": \"latitude\",\n",
    "    \"LONGITUDE\": \"longitude\"\n",
    "    })\n",
    "# Delete columns in mobile home parks data\n",
    "clean_mobile_home_data = clean_mobile_home_data.drop(columns={\n",
    "\"X\", \"Y\", \"FID\", \"MHPID\", \"ADDRESS2\", \"ZIP4\", \"COUNTYFIPS\",\n",
    "\"COUNTRY\", \"NAICS_CODE\", \"NAICS_DESC\", \"SOURCE\",\n",
    "\"SOURCEDATE\", \"VAL_METHOD\", \"VAL_DATE\", \"WEBSITE\",\"index\",\n",
    "\"UNITS\", \"SIZE\", \"YEARBLT\", \"RevGeoFlag\"})\n",
    "clean_mobile_home_data = clean_mobile_home_data[(clean_mobile_home_data['latitude'] != 0) | (clean_mobile_home_data['longitude'] != 0)]\n",
    "# Round coordinates to 4 decimal places\n",
    "clean_mobile_home_data['latitude'] = clean_mobile_home_data['latitude'].round(1)\n",
    "clean_mobile_home_data['longitude'] = clean_mobile_home_data['longitude'].round(1)\n",
    "display(clean_mobile_home_data)"
   ]
  },
  {
   "cell_type": "markdown",
   "metadata": {},
   "source": [
    "### Step 4: Merging data from both data sets, based on coordenates."
   ]
  },
  {
   "cell_type": "code",
   "execution_count": null,
   "metadata": {},
   "outputs": [],
   "source": [
    "# Merging data from both data sets, based on coordenates.\n",
    "\n",
    "tornado_mobiles_merge = pd.merge(clean_tornadoes_data, clean_mobile_home_data, left_on=[\"longitude\",\"latitude\"],right_on=[\"longitude\",\"latitude\"])\n",
    "merge_data_df = pd.DataFrame(tornado_mobiles_merge)\n",
    "\n",
    "# Export the tornado_mobiles_merge data into a csv\n",
    "merge_data_df.to_csv(\"../Project1Bootcamp/tornadoesandparksmerged.csv\")\n",
    "\n",
    "merge_data_df"
   ]
  },
  {
   "cell_type": "markdown",
   "metadata": {},
   "source": [
    "### Step 5: Plot the number of tornadoes vs years"
   ]
  },
  {
   "cell_type": "code",
   "execution_count": null,
   "metadata": {},
   "outputs": [],
   "source": [
    "\n",
    "# Formats the 'year' column to datetime format for further processing\n",
    "clean_tornadoes_data['year'] = pd.to_datetime(clean_tornadoes_data['year'], format='%Y')\n",
    "\n",
    "# Group the data by year and calculate the tornado count for each year\n",
    "tornadoes_by_year = clean_tornadoes_data.groupby(clean_tornadoes_data['year'].dt.year).size()\n",
    "\n",
    "# Plot the tornado count over time\n",
    "plt.figure(figsize=(10, 6))\n",
    "plt.plot(tornadoes_by_year.index, tornadoes_by_year.values, marker='o', linestyle='-')\n",
    "plt.title('Tornado Count by Year')\n",
    "plt.xlabel('Year')\n",
    "plt.ylabel('Tornado Count')\n",
    "plt.grid(True)\n",
    "plt.xticks(rotation=45)\n",
    "plt.show()"
   ]
  },
  {
   "cell_type": "markdown",
   "metadata": {},
   "source": [
    "##### Graph 1: From 1950 to 2021, a total of 68739 tornadoes were registered in the US. An increasing tornado tendency over time in the US can be observed in the shown graph."
   ]
  },
  {
   "attachments": {
    "image-2.png": {
     "image/png": "[encoded data removed]"
    }
   },
   "cell_type": "markdown",
   "metadata": {},
   "source": [
    "### Step 6: Calculate and plot the distribution of tornadoes based on the Fujita Scale Category, scale for rating tornado intensity, \n",
    "### based primarily on the damage tornadoes inflict on human-built structures and vegetation.\n",
    "\n",
    "![image-2.png](attachment:image-2.png)"
   ]
  },
  {
   "cell_type": "code",
   "execution_count": null,
   "metadata": {},
   "outputs": [],
   "source": [
    "\n",
    "# Define a dictionary to map magnitudes from database to Fujita scale categories\n",
    "fujita_scale_map = {0: 'F0', 1: 'F1', 2: 'F2', 3: 'F3', 4: 'F4', 5: 'F5'}\n",
    "\n",
    "# Apply the mapping to create the 'fujita_scale_category' column\n",
    "clean_tornadoes_data['fujita_scale_category'] = clean_tornadoes_data['magnitude'].map(fujita_scale_map)\n",
    "\n",
    "# Calculate the distribution of the Fujita scale category\n",
    "fujita_scale_distribution = clean_tornadoes_data['fujita_scale_category'].value_counts()\n",
    "\n",
    "# Calculate the percentage of each category\n",
    "percentage = (fujita_scale_distribution / fujita_scale_distribution.sum()) * 100\n",
    "\n",
    "# Plot a bar chart to show the distribution of the Fujita scale category\n",
    "plt.figure(figsize=(10, 6))\n",
    "bars = fujita_scale_distribution.plot(kind='bar', color='skyblue')\n",
    "plt.title('Distribution of Tornadoes by Fujita Scale Category')\n",
    "plt.xlabel('Fujita Scale Category')\n",
    "plt.ylabel('Tornado Count')\n",
    "plt.xticks(rotation=0)  # Rotate x-axis labels if needed\n",
    "plt.grid(axis='y')  # Add grid lines to the y-axis\n",
    "\n",
    "# Annotate bars with percentage values\n",
    "for i, val in enumerate(fujita_scale_distribution):\n",
    "    plt.text(i, val + 5, f'{percentage[i]:.2f}%', ha='center')\n",
    "plt.show()"
   ]
  },
  {
   "cell_type": "markdown",
   "metadata": {},
   "source": [
    "### Step 7: Count tornado ocurrences by state and visualize top 10 most affected states."
   ]
  },
  {
   "cell_type": "code",
   "execution_count": null,
   "metadata": {},
   "outputs": [],
   "source": [
    "\n",
    "# Count occurrences of tornadoes by state and sort from highest to lowest\n",
    "tornado_count_by_state = clean_tornadoes_data[\"state\"].value_counts().sort_values(ascending=False)\n",
    "\n",
    "# Visualize the top 10 states most affected by tornadoes\n",
    "top_affected_states = tornado_count_by_state.head(10)\n",
    "\n",
    "# Plot in a horizontal bar chart\n",
    "plt.figure(figsize=(10, 6))\n",
    "tornado_count_by_state.head(10).sort_values().plot(kind='barh', color='skyblue')\n",
    "plt.title('Top 10 US States Most Affected by Tornadoes')\n",
    "plt.xlabel('Number of Tornadoes')\n",
    "plt.ylabel('State')\n",
    "plt.show()"
   ]
  },
  {
   "cell_type": "code",
   "execution_count": null,
   "metadata": {},
   "outputs": [],
   "source": [
    "# Total number of victims (injured and fatalities) by state\n",
    "tornado_victims_by_state = clean_tornadoes_data.groupby('state')[['injuries', 'fatalities']].sum()\n",
    "\n",
    "# Select the top ten states with the highest total number of victims\n",
    "top_10_states = tornado_victims_by_state.sum(axis=1).nlargest(10).index\n",
    "tornado_victims_top_10 = tornado_victims_by_state.loc[top_10_states]\n",
    "\n",
    "# Visualize the total number of victims (injured and fatalities) by state in a horizontal bar chart\n",
    "plt.figure(figsize=(10, 8))\n",
    "bar_width = 0.4\n",
    "index = np.arange(len(tornado_victims_top_10))\n",
    "plt.barh(index, tornado_victims_top_10['injuries'], bar_width, label='Injured', color='skyblue')\n",
    "plt.barh(index + bar_width, tornado_victims_top_10['fatalities'], bar_width, label='Fatalities', color='salmon')\n",
    "plt.xlabel('Number of Victims')\n",
    "plt.ylabel('State')\n",
    "plt.title('Total Number of Victims by State (Top 10)')\n",
    "plt.yticks(index + bar_width / 2, tornado_victims_top_10.index)\n",
    "plt.legend()\n",
    "plt.gca().invert_yaxis()  # Invert the y-axis so that states appear in descending order\n",
    "plt.tight_layout()\n",
    "plt.show()"
   ]
  },
  {
   "cell_type": "markdown",
   "metadata": {},
   "source": [
    "## Code for printing map with all of the low-risk sites"
   ]
  },
  {
   "cell_type": "code",
   "execution_count": null,
   "metadata": {},
   "outputs": [],
   "source": [
    "# Using Groupby to add tornado counts to matching locations on the merge_data_df\n",
    "tornado_count_by_location = merge_data_df.groupby(['latitude', 'longitude']).size().reset_index(name='tornado_count')\n",
    "print(tornado_count_by_location)\n",
    "\n",
    "# Step 1: Calculate Tornado Count by Location\n",
    "tornado_count_by_location['yearly_average'] = tornado_count_by_location['tornado_count'] / 71\n",
    "print(tornado_count_by_location)\n"
   ]
  },
  {
   "cell_type": "code",
   "execution_count": null,
   "metadata": {},
   "outputs": [],
   "source": [
    "# Define risk thresholds\n",
    "low_threshold = 1\n",
    "moderate_threshold = 3\n",
    "high_threshold = 6\n",
    "\n",
    "# Classify yearly average tornado counts into risk scale\n",
    "def classify_tornado_risk(yearly_average):\n",
    "    if yearly_average <= low_threshold:\n",
    "        return 'Low Risk'\n",
    "    elif yearly_average <= moderate_threshold:\n",
    "        return 'Moderate Risk'\n",
    "    elif yearly_average <= high_threshold:\n",
    "        return 'High Risk'\n",
    "    else:\n",
    "        return 'Very High Risk'\n",
    "\n",
    "# Add a new column 'risk_category' to tornado_count_by_location DataFrame\n",
    "tornado_count_by_location['risk_category'] = tornado_count_by_location['yearly_average'].apply(classify_tornado_risk)\n",
    "\n",
    "# Display the updated DataFrame\n",
    "print(tornado_count_by_location)\n"
   ]
  },
  {
   "cell_type": "code",
   "execution_count": null,
   "metadata": {},
   "outputs": [],
   "source": [
    "# Define custom colors for risk categories\n",
    "risk_colors = {\n",
    "    'Low Risk': 'green',\n",
    "}\n",
    "\n",
    "# Filter locations with risk category other than \"Low Risk\"\n",
    "high_risk_locations = tornado_count_by_location[tornado_count_by_location['risk_category'] == 'Low Risk']\n",
    "\n",
    "# Plot the map using hvplot with geo=True and OSM tiles\n",
    "risk_map1 = high_risk_locations.hvplot(\n",
    "    kind='points',\n",
    "    x='longitude',\n",
    "    y='latitude',\n",
    "    c='risk_category',\n",
    "    tiles='OSM',\n",
    "    colorbar=True,\n",
    "    cmap=mcolors.ListedColormap([risk_colors[r] for r in risk_colors if r == 'Low Risk']),\n",
    "    frame_width=800,\n",
    "    frame_height=600,\n",
    "    title='Tornado Risk Classification',\n",
    "    geo=True,\n",
    ")\n",
    "\n",
    "# Display the map\n",
    "risk_map1"
   ]
  },
  {
   "cell_type": "markdown",
   "metadata": {},
   "source": [
    "## Code for printing map with moderate, high, and very high risk sites"
   ]
  },
  {
   "cell_type": "code",
   "execution_count": null,
   "metadata": {},
   "outputs": [],
   "source": [
    "# Define custom colors for risk categories\n",
    "risk_colors = {\n",
    "    'Moderate Risk': 'blue',\n",
    "    'High Risk': 'orange',\n",
    "    'Very High Risk': 'red'\n",
    "}\n",
    "\n",
    "# Filter locations with risk category other than \"Low Risk\"\n",
    "high_risk_locations = tornado_count_by_location[tornado_count_by_location['risk_category'] != 'Low Risk']\n",
    "\n",
    "# Plot the map using hvplot with geo=True and OSM tiles\n",
    "risk_map2 = high_risk_locations.hvplot(\n",
    "    kind='points',\n",
    "    x='longitude',\n",
    "    y='latitude',\n",
    "    c='risk_category',\n",
    "    tiles='OSM',\n",
    "    colorbar=True,\n",
    "    cmap=mcolors.ListedColormap([risk_colors[r] for r in risk_colors if r != 'Low Risk']),\n",
    "    frame_width=800,\n",
    "    frame_height=600,\n",
    "    title='Tornado Risk Classification',\n",
    "    geo=True,\n",
    ")\n",
    "\n",
    "# Display the map\n",
    "risk_map2\n"
   ]
  },
  {
   "cell_type": "code",
   "execution_count": null,
   "metadata": {},
   "outputs": [],
   "source": [
    "# Scatter plot\n",
    "plt.scatter(merge_data_df['year'], y_test, label='Actual')\n",
    "plt.scatter(merge_data_df['year'], y_pred, color='red', label='Predicted')\n",
    "\n",
    "# Add linear regression line\n",
    "slope, intercept, rvalue, pvalue, stderr = linregress(X_test['year'], y_test)\n",
    "regress_values = merge_data_df['year'] * slope + intercept\n",
    "line_eq = \"y = \" + str(round(slope, 2)) + \"x + \" + str(round(intercept, 2))\n",
    "plt.plot(merge_data_df['year'], regress_values, \"r-\", label=line_eq)\n",
    "\n",
    "# Add labels and legend\n",
    "plt.xlabel('Year')\n",
    "plt.ylabel('Tornado Occurrences')\n",
    "plt.title('Linear Regression: Tornado Occurrences vs Year')\n",
    "plt.legend()\n",
    "\n",
    "plt.show()"
   ]
  }
 ],
 "metadata": {
  "kernelspec": {
   "display_name": "dev",
   "language": "python",
   "name": "python3"
  },
  "language_info": {
   "codemirror_mode": {
    "name": "ipython",
    "version": 3
   },
   "file_extension": ".py",
   "mimetype": "text/x-python",
   "name": "python",
   "nbconvert_exporter": "python",
   "pygments_lexer": "ipython3",
   "version": "3.12.1"
  }
 },
 "nbformat": 4,
 "nbformat_minor": 2
}
